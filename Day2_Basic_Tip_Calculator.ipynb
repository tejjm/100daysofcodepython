{
 "cells": [
  {
   "cell_type": "code",
   "execution_count": null,
   "id": "2923958c-346a-4146-9aa7-da73483e2dc7",
   "metadata": {},
   "outputs": [],
   "source": [
    "split = int(input(\"How many people are splitting the bill?\\n\"))\n",
    "bill = int(input(\"How much is the bill?\\n\"))\n",
    "tip_percentage = input(\"What percentage would you like to tip?\\n\")\n",
    "tip_percentage =float(f\"1.{tip_percentage}\")\n",
    "tip_amount =(bill/split)*tip_percentage\n",
    "print(tip_amount)\n",
    "\n"
   ]
  }
 ],
 "metadata": {
  "kernelspec": {
   "display_name": "Python 3 (ipykernel)",
   "language": "python",
   "name": "python3"
  },
  "language_info": {
   "codemirror_mode": {
    "name": "ipython",
    "version": 3
   },
   "file_extension": ".py",
   "mimetype": "text/x-python",
   "name": "python",
   "nbconvert_exporter": "python",
   "pygments_lexer": "ipython3",
   "version": "3.12.0"
  }
 },
 "nbformat": 4,
 "nbformat_minor": 5
}
