{
 "cells": [
  {
   "cell_type": "code",
   "execution_count": null,
   "id": "ba065871-6718-4cf3-b85c-ec959c90a667",
   "metadata": {},
   "outputs": [],
   "source": [
    "#1. Create a greeting for your program.\n",
    "\n",
    "#2. Ask the user for the city that they grew up in.\n",
    "city = input(\"Enter the name of your city\\n\" )\n",
    "#3. Ask the user for the name of a pet.\n",
    "pet = input(\"Enter the name of your pet\\n\")\n",
    "#4. Combine the name of their city and pet and show them their band name.\n",
    "bandname = city+pet\n",
    "#5. Make sure the input cursor shows on a new line:\n",
    "print(f\"Your bandname is {bandname}\")"
   ]
  }
 ],
 "metadata": {
  "kernelspec": {
   "display_name": "Python 3 (ipykernel)",
   "language": "python",
   "name": "python3"
  },
  "language_info": {
   "codemirror_mode": {
    "name": "ipython",
    "version": 3
   },
   "file_extension": ".py",
   "mimetype": "text/x-python",
   "name": "python",
   "nbconvert_exporter": "python",
   "pygments_lexer": "ipython3",
   "version": "3.12.0"
  }
 },
 "nbformat": 4,
 "nbformat_minor": 5
}
